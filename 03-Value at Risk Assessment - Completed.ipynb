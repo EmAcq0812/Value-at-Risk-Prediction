{
 "cells": [
  {
   "cell_type": "markdown",
   "metadata": {
    "id": "0qYvRTglG537"
   },
   "source": [
    "# Value at Risk Assessment Model"
   ]
  },
  {
   "cell_type": "markdown",
   "metadata": {
    "id": "n9SHyrgqG538"
   },
   "source": [
    "### Import Packages\n"
   ]
  },
  {
   "cell_type": "code",
   "execution_count": 1,
   "metadata": {
    "id": "6zwRJlzeLaqq"
   },
   "outputs": [],
   "source": [
    "# Import packages\n",
    "import numpy as np\n",
    "import pandas as pd\n",
    "import matplotlib.pyplot as plt\n",
    "import yfinance as yf"
   ]
  },
  {
   "cell_type": "markdown",
   "metadata": {
    "id": "S9eWw_mrG53-"
   },
   "source": [
    "### Distributions - Set Up Stock Parameters"
   ]
  },
  {
   "cell_type": "code",
   "execution_count": 2,
   "metadata": {
    "colab": {
     "base_uri": "https://localhost:8080/"
    },
    "executionInfo": {
     "elapsed": 181,
     "status": "ok",
     "timestamp": 1626320248024,
     "user": {
      "displayName": "Yuting Zhao",
      "photoUrl": "https://lh3.googleusercontent.com/a-/AOh14GgTx8nXEgksfFAELok_uktVap8BK_FeqQbCMfOqOQ=s64",
      "userId": "08092881124962313525"
     },
     "user_tz": 420
    },
    "id": "TWE2nRZhG53_",
    "outputId": "7b19be3c-ad85-484a-e6fb-e73330f9269a"
   },
   "outputs": [
    {
     "name": "stdout",
     "output_type": "stream",
     "text": [
      "yfinance.Ticker object <MSFT>\n",
      "---------\n",
      "289.6700134277344\n"
     ]
    }
   ],
   "source": [
    "# Number of shares\n",
    "shares_MSFT = 1000\n",
    "\n",
    "# Live stock price\n",
    "price = yf.Ticker('MSFT')\n",
    "price_MSFT = price.history().tail(1)['Close'].iloc[0]\n",
    "\n",
    "print(price)\n",
    "print('---------')\n",
    "print(price_MSFT)"
   ]
  },
  {
   "cell_type": "markdown",
   "metadata": {},
   "source": [
    "30-day Historical volatility source: https://www.alphaquery.com/stock/MSFT/volatility-option-statistics/30-day/historical-volatility"
   ]
  },
  {
   "cell_type": "code",
   "execution_count": 3,
   "metadata": {
    "id": "1pwJU3PdLaqs"
   },
   "outputs": [],
   "source": [
    "# Investment value\n",
    "value_MSFT = price_MSFT * shares_MSFT\n",
    "\n",
    "# Risk free rate (4 week treasury bill rate)\n",
    "rfr_MSFT = 0.02 \n",
    "\n",
    "# Volatility (30-day volatility at that time)\n",
    "vol_MSFT = 0.2116"
   ]
  },
  {
   "cell_type": "markdown",
   "metadata": {
    "id": "Tx3t5Yu0G54C"
   },
   "source": [
    "### Simulations - Calculate Investment Returns"
   ]
  },
  {
   "cell_type": "code",
   "execution_count": 4,
   "metadata": {
    "id": "DV0RqdK2G54D"
   },
   "outputs": [],
   "source": [
    "# Number of simulations\n",
    "simulations = 5000 \n",
    "\n",
    "# Investment time in a year\n",
    "t_MSFT = 21/252 "
   ]
  },
  {
   "cell_type": "code",
   "execution_count": 5,
   "metadata": {
    "colab": {
     "base_uri": "https://localhost:8080/",
     "height": 811
    },
    "executionInfo": {
     "elapsed": 752,
     "status": "ok",
     "timestamp": 1624456739147,
     "user": {
      "displayName": "Lester Leong",
      "photoUrl": "https://lh3.googleusercontent.com/a-/AOh14GhESsAP_U-p-CX8EsBjBg4EszjEo6Qb0zr-LMf14g=s64",
      "userId": "17427307644910609596"
     },
     "user_tz": 300
    },
    "id": "3uhH4lTRG54E",
    "outputId": "e3c6ca8d-496f-41c8-ffb6-c880870d83a3"
   },
   "outputs": [
    {
     "data": {
      "text/plain": [
       "(array([  2.,   0.,   2.,   0.,   4.,   2.,   3.,   3.,   2.,   3.,   2.,\n",
       "          1.,   3.,   9.,  10.,  14.,   9.,  14.,  19.,  21.,  14.,  25.,\n",
       "         31.,  29.,  35.,  36.,  51.,  59.,  66.,  79.,  72.,  87., 105.,\n",
       "        113., 105., 124., 118., 133., 154., 141., 150., 133., 176., 151.,\n",
       "        161., 129., 156., 159., 164., 131., 151., 144., 143., 123., 130.,\n",
       "        119.,  99.,  90.,  82.,  88.,  76.,  63.,  79.,  52.,  42.,  46.,\n",
       "         32.,  31.,  34.,  19.,  27.,  23.,  15.,  16.,  11.,  10.,   7.,\n",
       "          8.,   6.,   4.,   3.,   3.,   2.,   1.,   2.,   2.,   1.,   3.,\n",
       "          0.,   0.,   1.,   0.,   0.,   0.,   1.,   0.,   0.,   0.,   0.,\n",
       "          1.]),\n",
       " array([-3.54844595, -3.470368  , -3.39229006, -3.31421211, -3.23613416,\n",
       "        -3.15805621, -3.07997826, -3.00190031, -2.92382237, -2.84574442,\n",
       "        -2.76766647, -2.68958852, -2.61151057, -2.53343263, -2.45535468,\n",
       "        -2.37727673, -2.29919878, -2.22112083, -2.14304288, -2.06496494,\n",
       "        -1.98688699, -1.90880904, -1.83073109, -1.75265314, -1.6745752 ,\n",
       "        -1.59649725, -1.5184193 , -1.44034135, -1.3622634 , -1.28418546,\n",
       "        -1.20610751, -1.12802956, -1.04995161, -0.97187366, -0.89379571,\n",
       "        -0.81571777, -0.73763982, -0.65956187, -0.58148392, -0.50340597,\n",
       "        -0.42532803, -0.34725008, -0.26917213, -0.19109418, -0.11301623,\n",
       "        -0.03493828,  0.04313966,  0.12121761,  0.19929556,  0.27737351,\n",
       "         0.35545146,  0.4335294 ,  0.51160735,  0.5896853 ,  0.66776325,\n",
       "         0.7458412 ,  0.82391915,  0.90199709,  0.98007504,  1.05815299,\n",
       "         1.13623094,  1.21430889,  1.29238683,  1.37046478,  1.44854273,\n",
       "         1.52662068,  1.60469863,  1.68277658,  1.76085452,  1.83893247,\n",
       "         1.91701042,  1.99508837,  2.07316632,  2.15124426,  2.22932221,\n",
       "         2.30740016,  2.38547811,  2.46355606,  2.541634  ,  2.61971195,\n",
       "         2.6977899 ,  2.77586785,  2.8539458 ,  2.93202375,  3.01010169,\n",
       "         3.08817964,  3.16625759,  3.24433554,  3.32241349,  3.40049143,\n",
       "         3.47856938,  3.55664733,  3.63472528,  3.71280323,  3.79088118,\n",
       "         3.86895912,  3.94703707,  4.02511502,  4.10319297,  4.18127092,\n",
       "         4.25934886]),\n",
       " <a list of 100 Patch objects>)"
      ]
     },
     "execution_count": 5,
     "metadata": {},
     "output_type": "execute_result"
    },
    {
     "data": {
      "image/png": "[encoded data removed]",
      "text/plain": [
       "<Figure size 432x288 with 1 Axes>"
      ]
     },
     "metadata": {
      "needs_background": "light"
     },
     "output_type": "display_data"
    }
   ],
   "source": [
    "# Explain np.random.standard_normal\n",
    "sample = np.random.standard_normal(5000)\n",
    "plt.hist(sample,bins=100)"
   ]
  },
  {
   "cell_type": "code",
   "execution_count": 6,
   "metadata": {
    "colab": {
     "base_uri": "https://localhost:8080/"
    },
    "executionInfo": {
     "elapsed": 8,
     "status": "ok",
     "timestamp": 1624456739148,
     "user": {
      "displayName": "Lester Leong",
      "photoUrl": "https://lh3.googleusercontent.com/a-/AOh14GhESsAP_U-p-CX8EsBjBg4EszjEo6Qb0zr-LMf14g=s64",
      "userId": "17427307644910609596"
     },
     "user_tz": 300
    },
    "id": "ecg0kj4PG54F",
    "outputId": "9ba22a66-a2f1-4820-a054-35549fd32622"
   },
   "outputs": [
    {
     "name": "stdout",
     "output_type": "stream",
     "text": [
      "-0.006683616898221294\n",
      "0.9951502609054084\n"
     ]
    }
   ],
   "source": [
    "print(np.mean(sample))\n",
    "print(np.std(sample))"
   ]
  },
  {
   "cell_type": "code",
   "execution_count": 7,
   "metadata": {
    "id": "0oUobTOZLaqs"
   },
   "outputs": [],
   "source": [
    "# Create a function to calculate the returns of the investment\n",
    "def VaR(pv, rfr, vol, t, simulations):\n",
    "    end_value = pv * np.exp((rfr - .5 * vol ** 2) * t + np.random.standard_normal(\n",
    "        simulations) * vol * np.sqrt(t))\n",
    "    returns = end_value - pv\n",
    "    return returns\n",
    "\n",
    "# Apply the VaR function to simulate the returns\n",
    "returns_MSFT = VaR(value_MSFT, rfr_MSFT, vol_MSFT, t_MSFT, simulations)"
   ]
  },
  {
   "cell_type": "markdown",
   "metadata": {
    "id": "nvhBrW_1G54H"
   },
   "source": [
    "### Quantifications - Identify VaR at 90%, 95%, and 99% Confidence Level"
   ]
  },
  {
   "cell_type": "code",
   "execution_count": 8,
   "metadata": {
    "colab": {
     "base_uri": "https://localhost:8080/"
    },
    "executionInfo": {
     "elapsed": 6,
     "status": "ok",
     "timestamp": 1624456739149,
     "user": {
      "displayName": "Lester Leong",
      "photoUrl": "https://lh3.googleusercontent.com/a-/AOh14GhESsAP_U-p-CX8EsBjBg4EszjEo6Qb0zr-LMf14g=s64",
      "userId": "17427307644910609596"
     },
     "user_tz": 300
    },
    "id": "gQu-YRHZG54I",
    "outputId": "551f0d02-0383-4274-d375-9e6257c37884"
   },
   "outputs": [
    {
     "name": "stdout",
     "output_type": "stream",
     "text": [
      "VaR at 90% confidence level: $3,455\n"
     ]
    }
   ],
   "source": [
    "# Explain string formatting\n",
    "# Print: VaR at x% confidence level: $y.\n",
    "\n",
    "x = 0.9\n",
    "y = 3455.248\n",
    "print(\"VaR at {:.0%} confidence level: ${:,.0f}\".format(x, y))"
   ]
  },
  {
   "cell_type": "code",
   "execution_count": 9,
   "metadata": {
    "colab": {
     "base_uri": "https://localhost:8080/",
     "height": 316
    },
    "executionInfo": {
     "elapsed": 735,
     "status": "ok",
     "timestamp": 1624456739879,
     "user": {
      "displayName": "Lester Leong",
      "photoUrl": "https://lh3.googleusercontent.com/a-/AOh14GhESsAP_U-p-CX8EsBjBg4EszjEo6Qb0zr-LMf14g=s64",
      "userId": "17427307644910609596"
     },
     "user_tz": 300
    },
    "id": "L5NT-rgIG54K",
    "outputId": "518ae085-5727-4cc0-cad2-4fdbe02ebfd0"
   },
   "outputs": [
    {
     "name": "stdout",
     "output_type": "stream",
     "text": [
      "VaR at 90% confidence level: $-22,462\n",
      "VaR at 95% confidence level: $-27,744\n",
      "VaR at 99% confidence level: $-37,937\n"
     ]
    },
    {
     "data": {
      "image/png": "[encoded data removed]",
      "text/plain": [
       "<Figure size 432x288 with 1 Axes>"
      ]
     },
     "metadata": {
      "needs_background": "light"
     },
     "output_type": "display_data"
    }
   ],
   "source": [
    "# Plot the returns\n",
    "plt.hist(returns_MSFT, bins=100);\n",
    "\n",
    "# Show VaR at 90%, 95%, and 99% confidence level\n",
    "percentiles = [10,5,1]\n",
    "\n",
    "for i in percentiles:\n",
    "    confidence = (100-i)/100\n",
    "    value = np.percentile(returns_MSFT, i)\n",
    "    print(\"VaR at {:.0%} confidence level: ${:,.0f}\".format(confidence, value))\n",
    "    plt.axvline(value, color = 'red', linestyle='dashed', linewidth=1)"
   ]
  },
  {
   "cell_type": "code",
   "execution_count": null,
   "metadata": {
    "id": "GsUWTH8JG54K"
   },
   "outputs": [],
   "source": []
  }
 ],
 "metadata": {
  "colab": {
   "collapsed_sections": [],
   "name": "03-Value at Risk Assessment V2 (with script).ipynb",
   "provenance": []
  },
  "kernelspec": {
   "display_name": "Python 3 (ipykernel)",
   "language": "python",
   "name": "python3"
  },
  "language_info": {
   "codemirror_mode": {
    "name": "ipython",
    "version": 3
   },
   "file_extension": ".py",
   "mimetype": "text/x-python",
   "name": "python",
   "nbconvert_exporter": "python",
   "pygments_lexer": "ipython3",
   "version": "3.9.12"
  }
 },
 "nbformat": 4,
 "nbformat_minor": 1
}
